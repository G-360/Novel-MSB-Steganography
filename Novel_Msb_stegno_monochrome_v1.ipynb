{
  "nbformat": 4,
  "nbformat_minor": 0,
  "metadata": {
    "colab": {
      "provenance": []
    },
    "kernelspec": {
      "name": "python3",
      "display_name": "Python 3"
    },
    "language_info": {
      "name": "python"
    }
  },
  "cells": [
    {
      "cell_type": "code",
      "execution_count": 4,
      "metadata": {
        "colab": {
          "base_uri": "https://localhost:8080/"
        },
        "id": "mgiZDmPA25y3",
        "outputId": "7471b340-ea2a-4976-c360-325dc3e5dd37"
      },
      "outputs": [
        {
          "output_type": "stream",
          "name": "stdout",
          "text": [
            "Drive already mounted at /content/drive; to attempt to forcibly remount, call drive.mount(\"/content/drive\", force_remount=True).\n",
            "/\n",
            "bin\t dev   lib32   mnt\t\t\t python-apt  srv    usr\n",
            "boot\t etc   lib64   NGC-DL-CONTAINER-LICENSE  root\t     sys    var\n",
            "content  home  libx32  opt\t\t\t run\t     tmp\n",
            "datalab  lib   media   proc\t\t\t sbin\t     tools\n"
          ]
        }
      ],
      "source": [
        "from google.colab import drive\n",
        "drive.mount('/content/drive')\n",
        "%cd ..\n",
        "!ls"
      ]
    },
    {
      "cell_type": "code",
      "source": [
        "from matplotlib import pyplot as plt\n",
        "import numpy as np\n",
        "import os\n",
        "from PIL import Image\n",
        "import binascii\n",
        "\n",
        "dir = 'content/drive/MyDrive/stegno'\n",
        "cover = 'content/drive/MyDrive/stegno/Cover/cover_img.jpg'\n",
        "secret = 'content/drive/MyDrive/stegno/Secret/5096.jpg'\n",
        "out = 'content/drive/MyDrive/stegno/Out/stego_out.png'\n",
        "'''\n",
        "print(\"Do you want to set paths (y/n):\")\n",
        "opt = input()\n",
        "if opt == 'y':\n",
        "  print(\"Do you want to set cover image path (y/n):\")\n",
        "  opt = input()\n",
        "  if opt == 'y':\n",
        "    cover = input()\n",
        "  print(\"Do you want to set Secret image path (y/n):\")\n",
        "  opt = input()\n",
        "  if opt == 'y':\n",
        "    secret = input()\n",
        "  print(\"Do you want to set output image path (y/n):\")\n",
        "  opt = input()\n",
        "  if opt == 'y':\n",
        "    out = input()'''"
      ],
      "metadata": {
        "colab": {
          "base_uri": "https://localhost:8080/",
          "height": 70
        },
        "id": "ayJr7BCoOO71",
        "outputId": "c4cff0ec-e615-4734-c38e-f2bf291d1e07"
      },
      "execution_count": 5,
      "outputs": [
        {
          "output_type": "execute_result",
          "data": {
            "text/plain": [
              "'\\nprint(\"Do you want to set paths (y/n):\")\\nopt = input()\\nif opt == \\'y\\':\\n  print(\"Do you want to set cover image path (y/n):\")\\n  opt = input()\\n  if opt == \\'y\\':\\n    cover = input()\\n  print(\"Do you want to set Secret image path (y/n):\")\\n  opt = input()\\n  if opt == \\'y\\':\\n    secret = input()\\n  print(\"Do you want to set output image path (y/n):\")\\n  opt = input()\\n  if opt == \\'y\\':\\n    out = input()'"
            ],
            "application/vnd.google.colaboratory.intrinsic+json": {
              "type": "string"
            }
          },
          "metadata": {},
          "execution_count": 5
        }
      ]
    },
    {
      "cell_type": "code",
      "source": [
        "import binascii\n",
        "#print(\"Enter text to hide\")\n",
        "#txt = input()\n",
        "txt = \"0hello world!!!\"\n",
        "bin_str = ''\n",
        "text = []\n",
        "\n",
        "for i in txt:\n",
        "  byt = bytes(i,'utf-8')\n",
        "  BINARY = bin(int(binascii.hexlify(byt),16))\n",
        "  binn = BINARY[2:]\n",
        "  while len(binn)<8:\n",
        "    binn = '0' + binn\n",
        "  bin_str+= binn\n",
        "  text.append(binn)"
      ],
      "metadata": {
        "id": "Wj2kzp425mWf"
      },
      "execution_count": 19,
      "outputs": []
    },
    {
      "cell_type": "code",
      "source": [
        "#pre process image\n",
        "img = Image.open(cover).convert('L')\n",
        "length, width = img.size\n",
        "map = img.load()\n",
        "\n",
        "stego_img = np.zeros([length, width], dtype=int)\n",
        "\n",
        "file = open('content/drive/MyDrive/stegno/binary.txt','w')\n",
        "img = []\n",
        "for i in range(0,length):\n",
        "  for j in range(0,width):\n",
        "    pixel = map[i,j]\n",
        "    stego_img[i][j] = pixel\n",
        "    BINARY = bin(pixel)\n",
        "    binn = BINARY[2:]\n",
        "    while len(binn) < 8:\n",
        "      binn = \"0\" + binn\n",
        "    binn = binn[:7] +'0'\n",
        "    img.append(binn)\n",
        "file.close()"
      ],
      "metadata": {
        "id": "aL9eK8I53YD9"
      },
      "execution_count": 20,
      "outputs": []
    },
    {
      "cell_type": "code",
      "source": [
        "#Parity checker\n",
        "# Expects atleast 7 bit long binary string\n",
        "def byte_is_odd_parity(img):\n",
        "  if (int(img[0]) + int(img[1]) + int(img[2]) + int(img[3]) + int(img[4]) + int(img[5]) + int(img[6]) ) % 2 == 1:\n",
        "    return 1\n",
        "  return 0"
      ],
      "metadata": {
        "id": "IenqpIe8SSb1"
      },
      "execution_count": 21,
      "outputs": []
    },
    {
      "cell_type": "code",
      "source": [
        "#To test if parity checker is working\n",
        "print(byte_is_odd_parity(img[1]))"
      ],
      "metadata": {
        "colab": {
          "base_uri": "https://localhost:8080/"
        },
        "id": "Fn5iIUXOTbvm",
        "outputId": "af9f4156-bd27-41c1-f171-55ecbfcb75c7"
      },
      "execution_count": 22,
      "outputs": [
        {
          "output_type": "stream",
          "name": "stdout",
          "text": [
            "0\n"
          ]
        }
      ]
    },
    {
      "cell_type": "code",
      "source": [
        "\n",
        "#Encoding\n",
        "#check parity and split functionalities\n",
        "t_ctr=2\n",
        "row=0\n",
        "col=0\n",
        "for i in range(0,len(img)):\n",
        "  t_seg = bin_str[t_ctr-2:t_ctr]\n",
        "  if byte_is_odd_parity(img[i]):\n",
        "    Msb = int(img[i][0]) & 0\n",
        "    Msb1= int(img[i][1]) & 1\n",
        "    #print(i,\"th, odd\",Msb,Msb1)\n",
        "    if (str(Msb)+str(Msb1)) == t_seg:\n",
        "      img[i] = img[i][0:7] + '1'\n",
        "      #print(img[i],\" \", t_seg)\n",
        "      t_ctr+=2\n",
        "  else:\n",
        "    Msb = int(img[i][0]) | 1\n",
        "    Msb1= int(img[i][1]) & 1\n",
        "    #print(i,\"th, even\",Msb,Msb1)\n",
        "    if (str(Msb)+str(Msb1)) == t_seg:\n",
        "      img[i] = img[i][0:7] + '1'\n",
        "      #print(img[i],\" \", t_seg)\n",
        "      t_ctr+=2\n",
        "  stego_img[row][col] = int(img[i],2)\n",
        "  col+=1\n",
        "  if col == width:\n",
        "    col = 0\n",
        "    row+= 1"
      ],
      "metadata": {
        "id": "SFw3u2UpR7z2"
      },
      "execution_count": 23,
      "outputs": []
    },
    {
      "cell_type": "code",
      "source": [
        "#Save encoded image\n",
        "im = Image.fromarray((stego_img.transpose()).astype(np.uint8))\n",
        "im.save(out)"
      ],
      "metadata": {
        "id": "v7YHXlBi6KJQ"
      },
      "execution_count": 24,
      "outputs": []
    },
    {
      "cell_type": "code",
      "source": [
        "\n",
        "encoded = 'content/drive/MyDrive/stegno/Out/stego_out.png'\n",
        "\n",
        "enc_img = Image.open(encoded).convert('L')\n",
        "length, width = enc_img.size\n",
        "map = enc_img.load()\n",
        "print(length, width, enc_img.mode)\n",
        "\n",
        "\n",
        "secret_text = \"\"\n",
        "for i in range(0,length):\n",
        "  for j in range(0,width):\n",
        "    pixel = map[i,j]\n",
        "    BINARY = bin(pixel)\n",
        "    binn = BINARY[2:]\n",
        "    while len(binn) < 8:\n",
        "      binn = \"0\" + binn\n",
        "    if binn[-1] == '1':\n",
        "      if byte_is_odd_parity(binn):\n",
        "        Msb = str(int(binn[0]) & 0)\n",
        "        Msb1= str(int(binn[1]) & 1)\n",
        "        secret_text = secret_text + (Msb+Msb1)\n",
        "      else:\n",
        "        Msb = str(int(binn[0]) | 1)\n",
        "        Msb1= str(int(binn[1]) & 1)\n",
        "        secret_text = secret_text + (Msb+Msb1)\n",
        "\n",
        "file = open('content/drive/MyDrive/stegno/extracted secret.txt','w')\n",
        "for i in range(0,len(secret_text),8):\n",
        "  byte_string = secret_text[i:i+8]\n",
        "  character = chr(int(byte_string,2))\n",
        "  print(character,byte_string)\n",
        "  file.write(character)\n",
        "file.close()"
      ],
      "metadata": {
        "colab": {
          "base_uri": "https://localhost:8080/"
        },
        "id": "UJCJ6wiZBSLf",
        "outputId": "c2fc1176-17eb-47e7-b49b-7af417ee9be0"
      },
      "execution_count": 25,
      "outputs": [
        {
          "output_type": "stream",
          "name": "stdout",
          "text": [
            "800 524 L\n",
            "0 00110000\n",
            "h 01101000\n",
            "e 01100101\n",
            "l 01101100\n",
            "l 01101100\n",
            "o 01101111\n",
            "  00100000\n",
            "w 01110111\n",
            "o 01101111\n",
            "r 01110010\n",
            "l 01101100\n",
            "d 01100100\n",
            "! 00100001\n",
            "! 00100001\n",
            "! 00100001\n"
          ]
        }
      ]
    }
  ]
}