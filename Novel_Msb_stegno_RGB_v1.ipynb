{
  "nbformat": 4,
  "nbformat_minor": 0,
  "metadata": {
    "colab": {
      "provenance": []
    },
    "kernelspec": {
      "name": "python3",
      "display_name": "Python 3"
    },
    "language_info": {
      "name": "python"
    }
  },
  "cells": [
    {
      "cell_type": "code",
      "execution_count": 1,
      "metadata": {
        "id": "iN55dmkmgv27",
        "colab": {
          "base_uri": "https://localhost:8080/"
        },
        "outputId": "c7a40031-acd4-4e01-c885-b4435d5c2ba1"
      },
      "outputs": [
        {
          "output_type": "stream",
          "name": "stdout",
          "text": [
            "Mounted at /content/drive\n",
            "/\n",
            "bin\t dev   lib32   mnt\t\t\t python-apt  srv    usr\n",
            "boot\t etc   lib64   NGC-DL-CONTAINER-LICENSE  root\t     sys    var\n",
            "content  home  libx32  opt\t\t\t run\t     tmp\n",
            "datalab  lib   media   proc\t\t\t sbin\t     tools\n"
          ]
        }
      ],
      "source": [
        "from google.colab import drive\n",
        "drive.mount('/content/drive')\n",
        "%cd ..\n",
        "!ls"
      ]
    },
    {
      "cell_type": "code",
      "source": [
        "from matplotlib import pyplot as plt\n",
        "import numpy as np\n",
        "import os\n",
        "from PIL import Image\n",
        "import binascii\n",
        "\n",
        "dir = 'content/drive/MyDrive/stegno'\n",
        "cover = 'content/drive/MyDrive/stegno/Cover/3063.jpg'\n",
        "secret = 'content/drive/MyDrive/stegno/Secret/5096.jpg'\n",
        "out = 'content/drive/MyDrive/stegno/Out/stego_out.png'\n",
        "'''\n",
        "print(\"Do you want to set paths (y/n):\")\n",
        "opt = input()\n",
        "if opt == 'y':\n",
        "  print(\"Do you want to set cover image path (y/n):\")\n",
        "  opt = input()\n",
        "  if opt == 'y':\n",
        "    cover = input()\n",
        "  print(\"Do you want to set Secret image path (y/n):\")\n",
        "  opt = input()\n",
        "  if opt == 'y':\n",
        "    secret = input()\n",
        "  print(\"Do you want to set output image path (y/n):\")\n",
        "  opt = input()\n",
        "  if opt == 'y':\n",
        "    out = input()'''"
      ],
      "metadata": {
        "colab": {
          "base_uri": "https://localhost:8080/",
          "height": 70
        },
        "id": "duoeW6RjiM8O",
        "outputId": "18557876-a8bd-4585-a7e8-52b5d085b6a4"
      },
      "execution_count": 2,
      "outputs": [
        {
          "output_type": "execute_result",
          "data": {
            "text/plain": [
              "'\\nprint(\"Do you want to set paths (y/n):\")\\nopt = input()\\nif opt == \\'y\\':\\n  print(\"Do you want to set cover image path (y/n):\")\\n  opt = input()\\n  if opt == \\'y\\':\\n    cover = input()\\n  print(\"Do you want to set Secret image path (y/n):\")\\n  opt = input()\\n  if opt == \\'y\\':\\n    secret = input()\\n  print(\"Do you want to set output image path (y/n):\")\\n  opt = input()\\n  if opt == \\'y\\':\\n    out = input()'"
            ],
            "application/vnd.google.colaboratory.intrinsic+json": {
              "type": "string"
            }
          },
          "metadata": {},
          "execution_count": 2
        }
      ]
    },
    {
      "cell_type": "code",
      "source": [
        "import binascii\n",
        "txt = \"0hello world\"\n",
        "bin_str = ''\n",
        "text = []\n",
        "\n",
        "for i in txt:\n",
        "  byt = bytes(i,'utf-8')\n",
        "  BINARY = bin(int(binascii.hexlify(byt),16))\n",
        "  binn = BINARY[2:]\n",
        "  while len(binn)<8:\n",
        "    binn = '0' + binn\n",
        "  bin_str+= binn\n",
        "  text.append(binn)"
      ],
      "metadata": {
        "id": "1yPi9ybgiQs2"
      },
      "execution_count": 3,
      "outputs": []
    },
    {
      "cell_type": "code",
      "source": [
        "#pre process image\n",
        "img = Image.open(cover)\n",
        "map = np.array(img)\n",
        "\n",
        "length = len(map)\n",
        "width = len(map[0])\n",
        "channel = len(map[0][0])\n",
        "stego_img = np.zeros([length, width, channel], dtype=int)\n",
        "\n",
        "img = []\n",
        "for i in range(0,width):\n",
        "  for j in range(0,length):\n",
        "    for k in range(0,channel):\n",
        "      pixel = map[j,i,k]\n",
        "      stego_img[j][i][k] = pixel\n",
        "      BINARY = bin(pixel)\n",
        "      binn = BINARY[2:]\n",
        "      while len(binn) < 8:\n",
        "        binn = \"0\" + binn\n",
        "      binn = binn[:7] +'0'\n",
        "      img.append(binn)"
      ],
      "metadata": {
        "id": "S4KKGSaSiX8O"
      },
      "execution_count": 4,
      "outputs": []
    },
    {
      "cell_type": "code",
      "source": [
        "#view the encoded data\n",
        "print(len(img))\n",
        "for i in range(0,100):\n",
        "  print(img[i])"
      ],
      "metadata": {
        "id": "R-6W29BHsjl6"
      },
      "execution_count": null,
      "outputs": []
    },
    {
      "cell_type": "code",
      "source": [
        "#Parity checker\n",
        "def byte_is_odd_parity(img):\n",
        "  if (int(img[0]) + int(img[1]) + int(img[2]) + int(img[3]) + int(img[4]) + int(img[5]) + int(img[6]) ) % 2 == 1:\n",
        "    return 1\n",
        "  return 0"
      ],
      "metadata": {
        "id": "IeWV_NSgid4W"
      },
      "execution_count": 6,
      "outputs": []
    },
    {
      "cell_type": "code",
      "source": [
        "#To test if parity checker is working\n",
        "print(byte_is_odd_parity(img[1]))"
      ],
      "metadata": {
        "colab": {
          "base_uri": "https://localhost:8080/"
        },
        "id": "6wFT1FDeienW",
        "outputId": "33e86813-6abd-4e73-9237-6e9dc634b24b"
      },
      "execution_count": 7,
      "outputs": [
        {
          "output_type": "stream",
          "name": "stdout",
          "text": [
            "1\n"
          ]
        }
      ]
    },
    {
      "cell_type": "code",
      "source": [
        "\n",
        "#Encoding\n",
        "#check parity and split functionalities\n",
        "t_ctr=2\n",
        "row=0\n",
        "col=0\n",
        "ch = 0\n",
        "for i in range(0,len(img)):\n",
        "  t_seg = bin_str[t_ctr-2:t_ctr]\n",
        "  if byte_is_odd_parity(img[i]):\n",
        "    Msb = int(img[i][0]) & 0\n",
        "    Msb1= int(img[i][1]) & 1\n",
        "    #print(i,\"th, odd\",Msb,Msb1)\n",
        "    if (str(Msb)+str(Msb1)) == t_seg:\n",
        "      img[i] = img[i][0:7] + '1'\n",
        "      #print(img[i],\" \", t_seg)\n",
        "      t_ctr+=2\n",
        "  else:\n",
        "    Msb = int(img[i][0]) | 1\n",
        "    Msb1= int(img[i][1]) & 1\n",
        "    #print(i,\"th, even\",Msb,Msb1)\n",
        "    if (str(Msb)+str(Msb1)) == t_seg:\n",
        "      img[i] = img[i][0:7] + '1'\n",
        "      #print(img[i],\" \", t_seg)\n",
        "      t_ctr+=2\n",
        "  stego_img[col][row][ch] = int(img[i],2)\n",
        "  ch+=1\n",
        "  if ch == channel:\n",
        "    ch = 0\n",
        "    col+=1\n",
        "  if col == length:\n",
        "    col = 0\n",
        "    row+= 1"
      ],
      "metadata": {
        "id": "c6cr0r-Iih--"
      },
      "execution_count": 8,
      "outputs": []
    },
    {
      "cell_type": "code",
      "source": [
        "#Save encoded image\n",
        "im = Image.fromarray((stego_img).astype(np.uint8))\n",
        "im.save(out)"
      ],
      "metadata": {
        "id": "rNG9Uhfyikqv"
      },
      "execution_count": 9,
      "outputs": []
    },
    {
      "cell_type": "code",
      "source": [
        "\n",
        "#encoded = 'content/drive/MyDrive/stegno/Out/stego_out.png'\n",
        "encoded = out\n",
        "\n",
        "enc_img = Image.open(out)\n",
        "map = np.array(enc_img)\n",
        "length = len(map)\n",
        "width = len(map[0])\n",
        "channel = len(map[0][0])\n",
        "\n",
        "#print(map)\n",
        "secret_text = \"\"\n",
        "for i in range(0,width):\n",
        "  for j in range(0,length):\n",
        "    for k in range(0,channel):\n",
        "      pixel = map[j,i,k]\n",
        "      BINARY = bin(pixel)\n",
        "      binn = BINARY[2:]\n",
        "      while len(binn) < 8:\n",
        "        binn = \"0\" + binn\n",
        "      if binn[-1] == '1':\n",
        "        if byte_is_odd_parity(binn):\n",
        "          Msb = str(int(binn[0]) & 0)\n",
        "          Msb1= str(int(binn[1]) & 1)\n",
        "          secret_text = secret_text + (Msb+Msb1)\n",
        "        else:\n",
        "          Msb = str(int(binn[0]) | 1)\n",
        "          Msb1= str(int(binn[1]) & 1)\n",
        "          secret_text = secret_text + (Msb+Msb1)\n",
        "\n",
        "file = open('content/drive/MyDrive/stegno/extracted secret.txt','w')\n",
        "for i in range(0,len(secret_text),8):\n",
        "  byte_string = secret_text[i:i+8]\n",
        "  character = chr(int(byte_string,2))\n",
        "  print(character,byte_string)\n",
        "  file.write(character)\n",
        "file.close()"
      ],
      "metadata": {
        "colab": {
          "base_uri": "https://localhost:8080/"
        },
        "id": "w1NHmCP3imVu",
        "outputId": "91aa00a4-bdb0-4388-b867-dd93674363c9"
      },
      "execution_count": 10,
      "outputs": [
        {
          "output_type": "stream",
          "name": "stdout",
          "text": [
            "0 00110000\n",
            "h 01101000\n",
            "e 01100101\n",
            "l 01101100\n",
            "l 01101100\n",
            "o 01101111\n",
            "  00100000\n",
            "w 01110111\n",
            "o 01101111\n",
            "r 01110010\n",
            "l 01101100\n",
            "d 01100100\n"
          ]
        }
      ]
    }
  ]
}